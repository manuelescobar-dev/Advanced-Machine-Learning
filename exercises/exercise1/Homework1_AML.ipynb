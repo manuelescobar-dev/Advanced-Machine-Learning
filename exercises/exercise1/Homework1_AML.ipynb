{
  "nbformat": 4,
  "nbformat_minor": 0,
  "metadata": {
    "colab": {
      "provenance": [],
      "collapsed_sections": [
        "c9QcGnGPdX2C",
        "fo942LMOdlh4",
        "OIDLJuIXK_vh"
      ],
      "gpuType": "T4",
      "include_colab_link": true
    },
    "kernelspec": {
      "name": "python3",
      "display_name": "Python 3"
    },
    "accelerator": "GPU"
  },
  "cells": [
    {
      "cell_type": "markdown",
      "metadata": {
        "id": "view-in-github",
        "colab_type": "text"
      },
      "source": [
        "<a href=\"https://colab.research.google.com/github/manuelescobar-dev/Advanced-Machine-Learning/blob/main/exercises/exercise1/Homework1_AML.ipynb\" target=\"_parent\"><img src=\"https://colab.research.google.com/assets/colab-badge.svg\" alt=\"Open In Colab\"/></a>"
      ]
    },
    {
      "cell_type": "markdown",
      "source": [
        "# Initialization"
      ],
      "metadata": {
        "id": "jzHgggN5VbDN"
      }
    },
    {
      "cell_type": "markdown",
      "metadata": {
        "id": "c9QcGnGPdX2C"
      },
      "source": [
        "\n",
        "## Install Requirements"
      ]
    },
    {
      "cell_type": "code",
      "metadata": {
        "id": "k9O3aM3Tb28q",
        "colab": {
          "base_uri": "https://localhost:8080/"
        },
        "outputId": "54261021-ec1f-4265-f4b4-2e22dd31ccda"
      },
      "source": [
        "!pip3 install torch torchvision torchaudio"
      ],
      "execution_count": 1,
      "outputs": [
        {
          "output_type": "stream",
          "name": "stdout",
          "text": [
            "Requirement already satisfied: torch in /usr/local/lib/python3.10/dist-packages (2.1.0+cu121)\n",
            "Requirement already satisfied: torchvision in /usr/local/lib/python3.10/dist-packages (0.16.0+cu121)\n",
            "Requirement already satisfied: torchaudio in /usr/local/lib/python3.10/dist-packages (2.1.0+cu121)\n",
            "Requirement already satisfied: filelock in /usr/local/lib/python3.10/dist-packages (from torch) (3.13.1)\n",
            "Requirement already satisfied: typing-extensions in /usr/local/lib/python3.10/dist-packages (from torch) (4.5.0)\n",
            "Requirement already satisfied: sympy in /usr/local/lib/python3.10/dist-packages (from torch) (1.12)\n",
            "Requirement already satisfied: networkx in /usr/local/lib/python3.10/dist-packages (from torch) (3.2.1)\n",
            "Requirement already satisfied: jinja2 in /usr/local/lib/python3.10/dist-packages (from torch) (3.1.3)\n",
            "Requirement already satisfied: fsspec in /usr/local/lib/python3.10/dist-packages (from torch) (2023.6.0)\n",
            "Requirement already satisfied: triton==2.1.0 in /usr/local/lib/python3.10/dist-packages (from torch) (2.1.0)\n",
            "Requirement already satisfied: numpy in /usr/local/lib/python3.10/dist-packages (from torchvision) (1.23.5)\n",
            "Requirement already satisfied: requests in /usr/local/lib/python3.10/dist-packages (from torchvision) (2.31.0)\n",
            "Requirement already satisfied: pillow!=8.3.*,>=5.3.0 in /usr/local/lib/python3.10/dist-packages (from torchvision) (9.4.0)\n",
            "Requirement already satisfied: MarkupSafe>=2.0 in /usr/local/lib/python3.10/dist-packages (from jinja2->torch) (2.1.4)\n",
            "Requirement already satisfied: charset-normalizer<4,>=2 in /usr/local/lib/python3.10/dist-packages (from requests->torchvision) (3.3.2)\n",
            "Requirement already satisfied: idna<4,>=2.5 in /usr/local/lib/python3.10/dist-packages (from requests->torchvision) (3.6)\n",
            "Requirement already satisfied: urllib3<3,>=1.21.1 in /usr/local/lib/python3.10/dist-packages (from requests->torchvision) (2.0.7)\n",
            "Requirement already satisfied: certifi>=2017.4.17 in /usr/local/lib/python3.10/dist-packages (from requests->torchvision) (2023.11.17)\n",
            "Requirement already satisfied: mpmath>=0.19 in /usr/local/lib/python3.10/dist-packages (from sympy->torch) (1.3.0)\n"
          ]
        }
      ]
    },
    {
      "cell_type": "code",
      "source": [
        "!pip3 install 'tqdm'"
      ],
      "metadata": {
        "id": "qVKGznT4y4QT",
        "colab": {
          "base_uri": "https://localhost:8080/"
        },
        "outputId": "0c1ea93b-e09c-4138-864a-511bbe675edc"
      },
      "execution_count": 2,
      "outputs": [
        {
          "output_type": "stream",
          "name": "stdout",
          "text": [
            "Requirement already satisfied: tqdm in /usr/local/lib/python3.10/dist-packages (4.66.1)\n"
          ]
        }
      ]
    },
    {
      "cell_type": "markdown",
      "metadata": {
        "id": "fo942LMOdlh4"
      },
      "source": [
        "## Import libraries"
      ]
    },
    {
      "cell_type": "code",
      "metadata": {
        "id": "DokFOdD1dJEl"
      },
      "source": [
        "import os\n",
        "import logging\n",
        "import time\n",
        "import torch\n",
        "import torch.nn as nn\n",
        "import torch.optim as optim\n",
        "from torch.utils.data import Subset, DataLoader\n",
        "from torch.backends import cudnn\n",
        "from tempfile import TemporaryDirectory\n",
        "\n",
        "import torchvision\n",
        "from torchvision import transforms\n",
        "from torchvision.models import alexnet\n",
        "\n",
        "from PIL import Image\n",
        "from tqdm import tqdm"
      ],
      "execution_count": 3,
      "outputs": []
    },
    {
      "cell_type": "markdown",
      "metadata": {
        "id": "OIDLJuIXK_vh"
      },
      "source": [
        "## Set Arguments"
      ]
    },
    {
      "cell_type": "code",
      "metadata": {
        "id": "d5PkYfqfK_SA"
      },
      "source": [
        "# Set arguments\n",
        "DEVICE = (\n",
        "    \"cuda\"\n",
        "    if torch.cuda.is_available()\n",
        "    else \"mps\"\n",
        "    if torch.backends.mps.is_available()\n",
        "    else \"cpu\"\n",
        ")\n",
        "NUM_CLASSES = 102 # 101 + 1: There is am extra Background class that should be removed\n",
        "\n",
        "BATCH_SIZE = 256     # Higher batch sizes allows for larger learning rates. An empirical heuristic suggests that, when changing\n",
        "                     # the batch size, learning rate should change by the same factor to have comparable results\n",
        "\n",
        "LR = 1e-3            # The initial Learning Rate\n",
        "MOMENTUM = 0.9       # Hyperparameter for SGD, keep this at 0.9 when using SGD\n",
        "WEIGHT_DECAY = 5e-5  # Regularization, you can keep this at the default\n",
        "\n",
        "NUM_EPOCHS = 30      # Total number of training epochs (iterations over dataset)\n",
        "STEP_SIZE = 20       # How many epochs before decreasing learning rate (if using a step-down policy)\n",
        "GAMMA = 0.1          # Multiplicative factor for learning rate step-down\n",
        "\n",
        "LOG_FREQUENCY = 10\n",
        "WORKERS=4"
      ],
      "execution_count": 4,
      "outputs": []
    },
    {
      "cell_type": "markdown",
      "metadata": {
        "id": "2qYIHPzYLY7i"
      },
      "source": [
        "## Prepare Data"
      ]
    },
    {
      "cell_type": "code",
      "source": [
        "from torchvision.datasets import VisionDataset\n",
        "\n",
        "from PIL import Image\n",
        "\n",
        "import os\n",
        "import os.path\n",
        "import sys\n",
        "\n",
        "\n",
        "def pil_loader(path):\n",
        "    # open path as file to avoid ResourceWarning (https://github.com/python-pillow/Pillow/issues/835)\n",
        "    with open(path, 'rb') as f:\n",
        "        img = Image.open(f)\n",
        "        return img.convert('RGB')\n",
        "\n",
        "\n",
        "class Caltech(VisionDataset):\n",
        "    def __init__(self, root, split='train', transform=None, target_transform=None):\n",
        "        super(Caltech, self).__init__(root, transform=transform, target_transform=target_transform)\n",
        "\n",
        "        self.split = split # This defines the split you are going to use\n",
        "                           # (split files are called 'train.txt' and 'test.txt')\n",
        "\n",
        "        self.images = []\n",
        "        self.labels = []\n",
        "        self.classes = {}\n",
        "\n",
        "        # Read split files and assign labels\n",
        "        split_file = os.path.join(root, f\"{split}.txt\")\n",
        "        with open(split_file, \"r\") as f:\n",
        "            for line in f:\n",
        "                image_path = line.strip()\n",
        "                class_name = os.path.basename(os.path.dirname(image_path))\n",
        "                if class_name not in self.classes:\n",
        "                    self.classes[class_name] = len(self.classes)\n",
        "                self.images.append(image_path)\n",
        "                self.labels.append(self.classes[class_name])\n",
        "\n",
        "    def __getitem__(self, index):\n",
        "        '''\n",
        "        __getitem__ should access an element through its index\n",
        "        Args:\n",
        "            index (int): Index\n",
        "\n",
        "        Returns:\n",
        "            tuple: (sample, target) where target is class_index of the target class.\n",
        "        '''\n",
        "\n",
        "        image = pil_loader(\n",
        "            os.path.join(self.root, \"101_ObjectCategories\", self.images[index])\n",
        "        )\n",
        "        label = self.labels[index]\n",
        "\n",
        "        # Applies preprocessing when accessing the image\n",
        "        if self.transform is not None:\n",
        "            image = self.transform(image)\n",
        "        if self.target_transform is not None:\n",
        "            label = self.target_transform(label)\n",
        "\n",
        "        return image, label\n",
        "\n",
        "    def __len__(self):\n",
        "        '''\n",
        "        The __len__ method returns the length of the dataset\n",
        "        It is mandatory, as this is used by several other components\n",
        "        '''\n",
        "        return len(self.images)"
      ],
      "metadata": {
        "id": "jxm50Cm9IBz-"
      },
      "execution_count": 5,
      "outputs": []
    },
    {
      "cell_type": "code",
      "metadata": {
        "id": "QfVq_uDHLbsR",
        "colab": {
          "base_uri": "https://localhost:8080/"
        },
        "collapsed": true,
        "outputId": "746b89f5-cc79-4ac0-cb2e-3b7045a1e5b1"
      },
      "source": [
        "# Clone github repository with data\n",
        "import pathlib\n",
        "from sklearn.model_selection import train_test_split\n",
        "import numpy as np\n",
        "print(pathlib.Path().resolve())\n",
        "if not os.path.isdir('./Caltech101'):\n",
        "  !git clone https://github.com/MachineLearning2020/Homework2-Caltech101.git\n",
        "  !mv 'Homework2-Caltech101' 'Caltech101'\n",
        "\n",
        "DATA_DIR = 'Caltech101'"
      ],
      "execution_count": 6,
      "outputs": [
        {
          "output_type": "stream",
          "name": "stdout",
          "text": [
            "/content\n"
          ]
        }
      ]
    },
    {
      "cell_type": "code",
      "metadata": {
        "id": "QUDdw4j2H0Mc"
      },
      "source": [
        "def load_data(mean = (0.5, 0.5, 0.5),\n",
        "    std = (0.5, 0.5, 0.5),validation=True):\n",
        "  # Define transforms for training phase\n",
        "  train_transform = transforms.Compose([transforms.Resize(256),      # Resizes short size of the PIL image to 256\n",
        "                                        transforms.CenterCrop(224),  # Crops a central square patch of the image\n",
        "                                                                    # 224 because torchvision's AlexNet needs a 224x224 input!\n",
        "                                                                    # Remember this when applying different transformations, otherwise you get an error\n",
        "                                        transforms.ToTensor(), # Turn PIL Image to torch.Tensor\n",
        "                                        transforms.Normalize(mean, std) # Normalizes tensor with mean and standard deviation\n",
        "  ])\n",
        "  # Define transforms for the evaluation phase\n",
        "  eval_transform = transforms.Compose([transforms.Resize(256),\n",
        "                                        transforms.CenterCrop(224),\n",
        "                                        transforms.ToTensor(),\n",
        "                                        transforms.Normalize(mean, std)\n",
        "  ])\n",
        "\n",
        "  # Prepare Pytorch train/test Datasets\n",
        "  train_dataset = Caltech(DATA_DIR, split='train',  transform=train_transform)\n",
        "  test_dataset = Caltech(DATA_DIR, split='test', transform=eval_transform)\n",
        "\n",
        "  if validation:\n",
        "    train_indexes, val_indexes = train_test_split(\n",
        "            np.arange(len(train_dataset)),\n",
        "            stratify=train_dataset.labels,\n",
        "            test_size=0.25,\n",
        "            random_state=42,\n",
        "        )\n",
        "\n",
        "    new_train_dataset = Subset(train_dataset, train_indexes)\n",
        "    val_dataset = Subset(train_dataset, val_indexes)\n",
        "\n",
        "\n",
        "    train_size = len(new_train_dataset)\n",
        "    test_size = len(test_dataset)\n",
        "    val_size = len(val_dataset)\n",
        "\n",
        "    # Check dataset sizes\n",
        "    print('Train Dataset: {}'.format(train_size))\n",
        "    print('Valid Dataset: {}'.format(val_size))\n",
        "    print('Test Dataset: {}'.format(test_size))\n",
        "\n",
        "    # Dataloaders iterate over pytorch datasets and transparently provide useful functions (e.g. parallelization and shuffling)\n",
        "    train_dataloader = DataLoader(new_train_dataset, batch_size=BATCH_SIZE, shuffle=True, num_workers=WORKERS, drop_last=True)\n",
        "    val_dataloader = DataLoader(val_dataset, batch_size=BATCH_SIZE, shuffle=False, num_workers=WORKERS)\n",
        "    test_dataloader = DataLoader(test_dataset, batch_size=BATCH_SIZE, shuffle=False, num_workers=WORKERS)\n",
        "    return train_dataloader, val_dataloader, test_dataloader, train_size, val_size, test_size\n",
        "  else:\n",
        "    train_size = len(train_dataset)\n",
        "    test_size = len(test_dataset)\n",
        "    # Check dataset sizes\n",
        "    print('Train Dataset: {}'.format(train_size))\n",
        "    print('Test Dataset: {}'.format(test_size))\n",
        "\n",
        "    # Dataloaders iterate over pytorch datasets and transparently provide useful functions (e.g. parallelization and shuffling)\n",
        "    train_dataloader = DataLoader(train_dataset, batch_size=BATCH_SIZE, shuffle=True, num_workers=WORKERS, drop_last=True)\n",
        "    test_dataloader = DataLoader(test_dataset, batch_size=BATCH_SIZE, shuffle=False, num_workers=WORKERS)\n",
        "\n",
        "    return train_dataloader, test_dataloader, train_size, test_size"
      ],
      "execution_count": 7,
      "outputs": []
    },
    {
      "cell_type": "markdown",
      "metadata": {
        "id": "AxYUli9d9uYQ"
      },
      "source": [
        "## Training"
      ]
    },
    {
      "cell_type": "code",
      "metadata": {
        "id": "ZcoQ5fD49yT_"
      },
      "source": [
        "def train(model, loss_fn, optimizer, scheduler, train_dataloader, train_size, val_dataloader=None, val_size=None, best_model_path=\"best_model.pth\"):\n",
        "    start = time.time() # Start time\n",
        "    model = model.to(DEVICE)  # Move model to device\n",
        "    max_val_acc = float('-inf')\n",
        "    cudnn.benchmark  # Calling this optimizes runtime\n",
        "\n",
        "    print('-' * 10)\n",
        "    # Start iterating over the epochs\n",
        "    for epoch in range(NUM_EPOCHS):\n",
        "        print(\n",
        "            \"Epoch {}/{}, LR = {}\".format(\n",
        "                epoch + 1, NUM_EPOCHS, scheduler.get_last_lr()\n",
        "            )\n",
        "        )\n",
        "        running_loss = 0.0\n",
        "\n",
        "        # TRAIN\n",
        "        model.train()  # Sets module in training mode\n",
        "        for images, labels in train_dataloader:\n",
        "            # Bring data over the device of choice\n",
        "            images = images.to(DEVICE)\n",
        "            labels = labels.to(DEVICE)\n",
        "\n",
        "\n",
        "            # PyTorch, by default, accumulates gradients after each backward pass\n",
        "            # We need to manually set the gradients to zero before starting a new iteration\n",
        "            optimizer.zero_grad()  # Zero-ing the gradients\n",
        "\n",
        "            # Forward pass to the network\n",
        "            outputs = model(images)\n",
        "\n",
        "            # Compute loss based on output and ground truth\n",
        "            loss = loss_fn(outputs, labels)\n",
        "\n",
        "\n",
        "            running_loss+=loss.item()\n",
        "\n",
        "            # Compute gradients for each layer and update weights\n",
        "            loss.backward()  # backward pass: computes gradients\n",
        "            optimizer.step()  # update weights based on accumulated gradients\n",
        "\n",
        "        print(\"Epoch Loss:\", running_loss/train_size)\n",
        "\n",
        "        # VALIDATE\n",
        "        if val_dataloader is not None:\n",
        "          model.eval()  # Set Network to evaluation mode\n",
        "          running_corrects = 0\n",
        "          val_loss=0.0\n",
        "          with torch.no_grad():\n",
        "            for images, labels in val_dataloader:\n",
        "                images = images.to(DEVICE)\n",
        "                labels = labels.to(DEVICE)\n",
        "\n",
        "                # Forward Pass\n",
        "                outputs = model(images)\n",
        "\n",
        "                # Get predictions\n",
        "                _, preds = torch.max(outputs, 1)\n",
        "\n",
        "                # Update Corrects\n",
        "                running_corrects += torch.sum(preds == labels.data).item()\n",
        "                val_loss+= loss_fn(outputs,labels).item()\n",
        "\n",
        "          # Calculate Accuracy\n",
        "          val_acc = running_corrects / float(val_size)\n",
        "          val_loss /= val_size\n",
        "          print(\"Val Accuracy: {}\".format(val_acc))\n",
        "          print(\"Val Loss: {}\".format(val_loss))\n",
        "\n",
        "          if val_acc > max_val_acc:\n",
        "              max_val_acc = val_acc\n",
        "              print(\"New Best Val Acc!\")\n",
        "              torch.save(model.state_dict(), best_model_path)\n",
        "\n",
        "          print(\"Best Val Acc: {}\".format(max_val_acc))\n",
        "        print('-' * 10)\n",
        "\n",
        "        # Step the scheduler\n",
        "        scheduler.step()\n",
        "\n",
        "    time_elapsed = time.time()-start\n",
        "    print(f'Training complete in {time_elapsed // 60:.0f}m {time_elapsed % 60:.0f}s')\n",
        "    print(f'Best Val Acc: {max_val_acc}')\n",
        "\n",
        "    # load best model weights\n",
        "    model.load_state_dict(torch.load(best_model_path))\n",
        "    return model"
      ],
      "execution_count": 8,
      "outputs": []
    },
    {
      "cell_type": "markdown",
      "metadata": {
        "id": "UsHFI-GAJd69"
      },
      "source": [
        "## Validation"
      ]
    },
    {
      "cell_type": "code",
      "metadata": {
        "id": "EO3HV5pqJg1o"
      },
      "source": [
        "def validation(model, val_dataloader, val_size):\n",
        "    model = model.to(DEVICE)  # this will bring the network to GPU if DEVICE is cuda\n",
        "    model.train(False)  # Set Network to evaluation mode\n",
        "\n",
        "    running_corrects = 0\n",
        "    for images, labels in val_dataloader:\n",
        "        images = images.to(DEVICE)\n",
        "        labels = labels.to(DEVICE)\n",
        "\n",
        "        # Forward Pass\n",
        "        outputs = model(images)\n",
        "\n",
        "        # Get predictions\n",
        "        _, preds = torch.max(outputs.data, 1)\n",
        "\n",
        "        # Update Corrects\n",
        "        running_corrects += torch.sum(preds == labels.data).data.item()\n",
        "\n",
        "    # Calculate Accuracy\n",
        "    accuracy = running_corrects / float(val_size)\n",
        "\n",
        "    print(\"Val Accuracy: {}\".format(accuracy))\n",
        "    return accuracy"
      ],
      "execution_count": 9,
      "outputs": []
    },
    {
      "cell_type": "markdown",
      "metadata": {
        "id": "jxekmR745ySe"
      },
      "source": [
        "## Testing"
      ]
    },
    {
      "cell_type": "code",
      "metadata": {
        "id": "fSHcUqLB5yWO"
      },
      "source": [
        "def test(model, test_dataloader, test_size):\n",
        "    model = model.to(DEVICE)  # this will bring the network to GPU if DEVICE is cuda\n",
        "    model.train(False)  # Set Network to evaluation mode\n",
        "\n",
        "    running_corrects = 0\n",
        "    for images, labels in tqdm(test_dataloader):\n",
        "        images = images.to(DEVICE)\n",
        "        labels = labels.to(DEVICE)\n",
        "\n",
        "        # Forward Pass\n",
        "        outputs = model(images)\n",
        "\n",
        "        # Get predictions\n",
        "        _, preds = torch.max(outputs.data, 1)\n",
        "\n",
        "        # Update Corrects\n",
        "        running_corrects += torch.sum(preds == labels.data).data.item()\n",
        "\n",
        "    # Calculate Accuracy\n",
        "    accuracy = running_corrects / float(test_size)\n",
        "\n",
        "    print(\"Test Accuracy: {}\".format(accuracy))"
      ],
      "execution_count": 10,
      "outputs": []
    },
    {
      "cell_type": "markdown",
      "source": [
        "# From Scratch"
      ],
      "metadata": {
        "id": "OvZVEgimYfM1"
      }
    },
    {
      "cell_type": "markdown",
      "metadata": {
        "id": "gbZ1t5Qs2z4j"
      },
      "source": [
        "**Prepare Network**"
      ]
    },
    {
      "cell_type": "code",
      "metadata": {
        "id": "exHUjtXa22DN"
      },
      "source": [
        "net = alexnet() # Loading AlexNet model\n",
        "\n",
        "# AlexNet has 1000 output neurons, corresponding to the 1000 ImageNet's classes\n",
        "# We need 101 outputs for Caltech-101\n",
        "net.classifier[6] = nn.Linear(4096, NUM_CLASSES) # nn.Linear in pytorch is a fully connected layer\n",
        "                                                 # The convolutional layer is nn.Conv2d\n",
        "\n",
        "# We just changed the last layer of AlexNet with a new fully connected layer with 101 outputs\n",
        "# It is strongly suggested to study torchvision.models.alexnet source code\n",
        "\n",
        "# Define loss function\n",
        "criterion = nn.CrossEntropyLoss() # for classification, we use Cross Entropy\n",
        "\n",
        "# Choose parameters to optimize\n",
        "# To access a different set of parameters, you have to access submodules of AlexNet\n",
        "# (nn.Module objects, like AlexNet, implement the Composite Pattern)\n",
        "# e.g.: parameters of the fully connected layers: net.classifier.parameters()\n",
        "# e.g.: parameters of the convolutional layers: look at alexnet's source code ;)\n",
        "parameters_to_optimize = net.parameters() # In this case we optimize over all the parameters of AlexNet\n",
        "\n",
        "# Define optimizer\n",
        "# An optimizer updates the weights based on loss\n",
        "# We use SGD with momentum\n",
        "optimizer = optim.SGD(parameters_to_optimize, lr=LR, momentum=MOMENTUM, weight_decay=WEIGHT_DECAY)\n",
        "\n",
        "# Define scheduler\n",
        "# A scheduler dynamically changes learning rate\n",
        "# The most common schedule is the step(-down), which multiplies learning rate by gamma every STEP_SIZE epochs\n",
        "scheduler = optim.lr_scheduler.StepLR(optimizer, step_size=STEP_SIZE, gamma=GAMMA)"
      ],
      "execution_count": 11,
      "outputs": []
    },
    {
      "cell_type": "code",
      "source": [
        "train_dataloader, val_dataloader, test_dataloader, train_size, val_size, test_size = load_data(validation=True)\n",
        "net = train(net, criterion, optimizer, scheduler, train_dataloader=train_dataloader, train_size=train_size, val_dataloader=val_dataloader, val_size=val_size)\n",
        "test(net, test_dataloader, test_size)"
      ],
      "metadata": {
        "colab": {
          "base_uri": "https://localhost:8080/"
        },
        "id": "41d5qInCZv4K",
        "outputId": "b3736ad6-eed3-4ddd-c27c-230a493c5273"
      },
      "execution_count": 12,
      "outputs": [
        {
          "output_type": "stream",
          "name": "stdout",
          "text": [
            "Train Dataset: 4572\n",
            "Valid Dataset: 1524\n",
            "Test Dataset: 3049\n"
          ]
        },
        {
          "output_type": "stream",
          "name": "stderr",
          "text": [
            "/usr/local/lib/python3.10/dist-packages/torch/utils/data/dataloader.py:557: UserWarning: This DataLoader will create 4 worker processes in total. Our suggested max number of worker in current system is 2, which is smaller than what this DataLoader is going to create. Please be aware that excessive worker creation might get DataLoader running slow or even freeze, lower the worker number to avoid potential slowness/freeze if necessary.\n",
            "  warnings.warn(_create_warning_msg(\n"
          ]
        },
        {
          "output_type": "stream",
          "name": "stdout",
          "text": [
            "----------\n",
            "Epoch 1/30, LR = [0.001]\n",
            "Epoch Loss: 0.017194716219096882\n",
            "Val Accuracy: 0.0032808398950131233\n",
            "Val Loss: 0.018198549278139128\n",
            "New Best Val Acc!\n",
            "Best Val Acc: 0.0032808398950131233\n",
            "----------\n",
            "Epoch 2/30, LR = [0.001]\n",
            "Epoch Loss: 0.01718081983681426\n",
            "Val Accuracy: 0.08727034120734908\n",
            "Val Loss: 0.018181443840187054\n",
            "New Best Val Acc!\n",
            "Best Val Acc: 0.08727034120734908\n",
            "----------\n",
            "Epoch 3/30, LR = [0.001]\n",
            "Epoch Loss: 0.017164113744767423\n",
            "Val Accuracy: 0.08727034120734908\n",
            "Val Loss: 0.018163248935709475\n",
            "Best Val Acc: 0.08727034120734908\n",
            "----------\n",
            "Epoch 4/30, LR = [0.001]\n",
            "Epoch Loss: 0.017146497678047507\n",
            "Val Accuracy: 0.08727034120734908\n",
            "Val Loss: 0.018144671372541294\n",
            "Best Val Acc: 0.08727034120734908\n",
            "----------\n",
            "Epoch 5/30, LR = [0.001]\n",
            "Epoch Loss: 0.01712896734189278\n",
            "Val Accuracy: 0.08727034120734908\n",
            "Val Loss: 0.01812568111369616\n",
            "Best Val Acc: 0.08727034120734908\n",
            "----------\n",
            "Epoch 6/30, LR = [0.001]\n",
            "Epoch Loss: 0.017110971223859545\n",
            "Val Accuracy: 0.08727034120734908\n",
            "Val Loss: 0.018106807561058386\n",
            "Best Val Acc: 0.08727034120734908\n",
            "----------\n",
            "Epoch 7/30, LR = [0.001]\n",
            "Epoch Loss: 0.017093420341571797\n",
            "Val Accuracy: 0.08727034120734908\n",
            "Val Loss: 0.018087083586244758\n",
            "Best Val Acc: 0.08727034120734908\n",
            "----------\n",
            "Epoch 8/30, LR = [0.001]\n",
            "Epoch Loss: 0.01707459340883991\n",
            "Val Accuracy: 0.08727034120734908\n",
            "Val Loss: 0.018066800798331034\n",
            "Best Val Acc: 0.08727034120734908\n",
            "----------\n",
            "Epoch 9/30, LR = [0.001]\n",
            "Epoch Loss: 0.017053345578444807\n",
            "Val Accuracy: 0.08727034120734908\n",
            "Val Loss: 0.01804534938391738\n",
            "Best Val Acc: 0.08727034120734908\n",
            "----------\n",
            "Epoch 10/30, LR = [0.001]\n",
            "Epoch Loss: 0.017035880948197708\n",
            "Val Accuracy: 0.10958005249343832\n",
            "Val Loss: 0.018022153008328334\n",
            "New Best Val Acc!\n",
            "Best Val Acc: 0.10958005249343832\n",
            "----------\n",
            "Epoch 11/30, LR = [0.001]\n",
            "Epoch Loss: 0.017010601069566353\n",
            "Val Accuracy: 0.13123359580052493\n",
            "Val Loss: 0.01799626707092045\n",
            "New Best Val Acc!\n",
            "Best Val Acc: 0.13123359580052493\n",
            "----------\n",
            "Epoch 12/30, LR = [0.001]\n",
            "Epoch Loss: 0.01698184785150376\n",
            "Val Accuracy: 0.14501312335958005\n",
            "Val Loss: 0.017964783928838615\n",
            "New Best Val Acc!\n",
            "Best Val Acc: 0.14501312335958005\n",
            "----------\n",
            "Epoch 13/30, LR = [0.001]\n",
            "Epoch Loss: 0.016945595399184072\n",
            "Val Accuracy: 0.09448818897637795\n",
            "Val Loss: 0.01792290579928501\n",
            "Best Val Acc: 0.14501312335958005\n",
            "----------\n",
            "Epoch 14/30, LR = [0.001]\n",
            "Epoch Loss: 0.016899377446579288\n",
            "Val Accuracy: 0.08727034120734908\n",
            "Val Loss: 0.017858021215503922\n",
            "Best Val Acc: 0.14501312335958005\n",
            "----------\n",
            "Epoch 15/30, LR = [0.001]\n",
            "Epoch Loss: 0.016808116634165312\n",
            "Val Accuracy: 0.08727034120734908\n",
            "Val Loss: 0.01772674112495162\n",
            "Best Val Acc: 0.14501312335958005\n",
            "----------\n",
            "Epoch 16/30, LR = [0.001]\n",
            "Epoch Loss: 0.016590773172787378\n",
            "Val Accuracy: 0.08727034120734908\n",
            "Val Loss: 0.017357957957610682\n",
            "Best Val Acc: 0.14501312335958005\n",
            "----------\n",
            "Epoch 17/30, LR = [0.001]\n",
            "Epoch Loss: 0.016046377513248045\n",
            "Val Accuracy: 0.08727034120734908\n",
            "Val Loss: 0.016749700849137593\n",
            "Best Val Acc: 0.14501312335958005\n",
            "----------\n",
            "Epoch 18/30, LR = [0.001]\n",
            "Epoch Loss: 0.01577679973261876\n",
            "Val Accuracy: 0.15288713910761154\n",
            "Val Loss: 0.016638237347440143\n",
            "New Best Val Acc!\n",
            "Best Val Acc: 0.15288713910761154\n",
            "----------\n",
            "Epoch 19/30, LR = [0.001]\n",
            "Epoch Loss: 0.0157107703016186\n",
            "Val Accuracy: 0.08727034120734908\n",
            "Val Loss: 0.016563742805340783\n",
            "Best Val Acc: 0.15288713910761154\n",
            "----------\n",
            "Epoch 20/30, LR = [0.001]\n",
            "Epoch Loss: 0.015668792153072274\n",
            "Val Accuracy: 0.08727034120734908\n",
            "Val Loss: 0.016527322959399286\n",
            "Best Val Acc: 0.15288713910761154\n",
            "----------\n",
            "Epoch 21/30, LR = [0.0001]\n",
            "Epoch Loss: 0.015626214620635265\n",
            "Val Accuracy: 0.08727034120734908\n",
            "Val Loss: 0.01652167131268759\n",
            "Best Val Acc: 0.15288713910761154\n",
            "----------\n",
            "Epoch 22/30, LR = [0.0001]\n",
            "Epoch Loss: 0.01561449456402636\n",
            "Val Accuracy: 0.08727034120734908\n",
            "Val Loss: 0.016520299623644572\n",
            "Best Val Acc: 0.15288713910761154\n",
            "----------\n",
            "Epoch 23/30, LR = [0.0001]\n",
            "Epoch Loss: 0.015623877576225595\n",
            "Val Accuracy: 0.08727034120734908\n",
            "Val Loss: 0.016519029622315735\n",
            "Best Val Acc: 0.15288713910761154\n",
            "----------\n",
            "Epoch 24/30, LR = [0.0001]\n",
            "Epoch Loss: 0.01565682992326097\n",
            "Val Accuracy: 0.08727034120734908\n",
            "Val Loss: 0.01651748522060124\n",
            "Best Val Acc: 0.15288713910761154\n",
            "----------\n",
            "Epoch 25/30, LR = [0.0001]\n",
            "Epoch Loss: 0.015632046072084654\n",
            "Val Accuracy: 0.08727034120734908\n",
            "Val Loss: 0.016514128274492078\n",
            "Best Val Acc: 0.15288713910761154\n",
            "----------\n",
            "Epoch 26/30, LR = [0.0001]\n",
            "Epoch Loss: 0.015623848060714709\n",
            "Val Accuracy: 0.08727034120734908\n",
            "Val Loss: 0.01651069122975267\n",
            "Best Val Acc: 0.15288713910761154\n",
            "----------\n",
            "Epoch 27/30, LR = [0.0001]\n",
            "Epoch Loss: 0.015613049659829127\n",
            "Val Accuracy: 0.08727034120734908\n",
            "Val Loss: 0.016510086109631956\n",
            "Best Val Acc: 0.15288713910761154\n",
            "----------\n",
            "Epoch 28/30, LR = [0.0001]\n",
            "Epoch Loss: 0.015594978345034942\n",
            "Val Accuracy: 0.08727034120734908\n",
            "Val Loss: 0.016506126859369554\n",
            "Best Val Acc: 0.15288713910761154\n",
            "----------\n",
            "Epoch 29/30, LR = [0.0001]\n",
            "Epoch Loss: 0.015625255731564286\n",
            "Val Accuracy: 0.08727034120734908\n",
            "Val Loss: 0.016503485168997696\n",
            "Best Val Acc: 0.15288713910761154\n",
            "----------\n",
            "Epoch 30/30, LR = [0.0001]\n",
            "Epoch Loss: 0.015616001210917742\n",
            "Val Accuracy: 0.08727034120734908\n",
            "Val Loss: 0.01650054342164768\n",
            "Best Val Acc: 0.15288713910761154\n",
            "----------\n",
            "Training complete in 12m 11s\n",
            "Best Val Acc: 0.15288713910761154\n"
          ]
        },
        {
          "output_type": "stream",
          "name": "stderr",
          "text": [
            "100%|██████████| 12/12 [00:12<00:00,  1.04s/it]"
          ]
        },
        {
          "output_type": "stream",
          "name": "stdout",
          "text": [
            "Test Accuracy: 0.152836995736307\n"
          ]
        },
        {
          "output_type": "stream",
          "name": "stderr",
          "text": [
            "\n"
          ]
        }
      ]
    },
    {
      "cell_type": "markdown",
      "source": [
        "# Transfer Learning"
      ],
      "metadata": {
        "id": "pWDD9s-qBODE"
      }
    },
    {
      "cell_type": "code",
      "source": [
        "net_ft = alexnet(weights='IMAGENET1K_V1') # Loading AlexNet model\n",
        "\n",
        "# AlexNet has 1000 output neurons, corresponding to the 1000 ImageNet's classes\n",
        "# We need 101 outputs for Caltech-101\n",
        "net_ft.classifier[6] = nn.Linear(4096, NUM_CLASSES) # nn.Linear in pytorch is a fully connected layer\n",
        "                                                 # The convolutional layer is nn.Conv2d\n",
        "\n",
        "# We just changed the last layer of AlexNet with a new fully connected layer with 101 outputs\n",
        "# It is strongly suggested to study torchvision.models.alexnet source code\n",
        "\n",
        "# Define loss function\n",
        "criterion_ft = nn.CrossEntropyLoss() # for classification, we use Cross Entropy\n",
        "\n",
        "# Choose parameters to optimize\n",
        "# To access a different set of parameters, you have to access submodules of AlexNet\n",
        "# (nn.Module objects, like AlexNet, implement the Composite Pattern)\n",
        "# e.g.: parameters of the fully connected layers: net.classifier.parameters()\n",
        "# e.g.: parameters of the convolutional layers: look at alexnet's source code ;)\n",
        "parameters_to_optimize_ft = net_ft.parameters() # In this case we optimize over all the parameters of AlexNet\n",
        "\n",
        "# Define optimizer\n",
        "# An optimizer updates the weights based on loss\n",
        "# We use SGD with momentum\n",
        "optimizer_ft = optim.SGD(parameters_to_optimize_ft, lr=LR, momentum=MOMENTUM, weight_decay=WEIGHT_DECAY)\n",
        "\n",
        "# Define scheduler\n",
        "# A scheduler dynamically changes learning rate\n",
        "# The most common schedule is the step(-down), which multiplies learning rate by gamma every STEP_SIZE epochs\n",
        "scheduler_ft = optim.lr_scheduler.StepLR(optimizer_ft, step_size=STEP_SIZE, gamma=GAMMA)"
      ],
      "metadata": {
        "id": "3H3i_UzUBQ_x",
        "colab": {
          "base_uri": "https://localhost:8080/"
        },
        "outputId": "a13df042-bd4a-4a74-b8d2-f54e4eb2bc91"
      },
      "execution_count": 13,
      "outputs": [
        {
          "output_type": "stream",
          "name": "stderr",
          "text": [
            "Downloading: \"https://download.pytorch.org/models/alexnet-owt-7be5be79.pth\" to /root/.cache/torch/hub/checkpoints/alexnet-owt-7be5be79.pth\n",
            "100%|██████████| 233M/233M [00:02<00:00, 107MB/s] \n"
          ]
        }
      ]
    },
    {
      "cell_type": "code",
      "source": [
        "train_dataloader, val_dataloader, test_dataloader, train_size, val_size, test_size = load_data(validation=True)\n",
        "net_ft = train(net_ft, criterion_ft, optimizer_ft, scheduler_ft, train_dataloader=train_dataloader, train_size=train_size, val_dataloader=val_dataloader, val_size=val_size, best_model_path='best_model_ft.pth')\n",
        "test(net_ft, test_dataloader, test_size)"
      ],
      "metadata": {
        "id": "jRP2k9BZcs6A",
        "outputId": "57088c3e-fd08-4fb7-8aeb-a2054506d8a0",
        "colab": {
          "base_uri": "https://localhost:8080/"
        }
      },
      "execution_count": null,
      "outputs": [
        {
          "output_type": "stream",
          "name": "stdout",
          "text": [
            "Train Dataset: 4572\n",
            "Valid Dataset: 1524\n",
            "Test Dataset: 3049\n",
            "----------\n",
            "Epoch 1/30, LR = [0.001]\n"
          ]
        },
        {
          "output_type": "stream",
          "name": "stderr",
          "text": [
            "/usr/local/lib/python3.10/dist-packages/torch/utils/data/dataloader.py:557: UserWarning: This DataLoader will create 4 worker processes in total. Our suggested max number of worker in current system is 2, which is smaller than what this DataLoader is going to create. Please be aware that excessive worker creation might get DataLoader running slow or even freeze, lower the worker number to avoid potential slowness/freeze if necessary.\n",
            "  warnings.warn(_create_warning_msg(\n"
          ]
        },
        {
          "output_type": "stream",
          "name": "stdout",
          "text": [
            "Epoch Loss: 0.014280668393833431\n",
            "Val Accuracy: 0.35039370078740156\n",
            "Val Loss: 0.011661237619054599\n",
            "New Best Val Acc!\n",
            "Best Val Acc: 0.35039370078740156\n",
            "----------\n",
            "Epoch 2/30, LR = [0.001]\n"
          ]
        }
      ]
    }
  ]
}